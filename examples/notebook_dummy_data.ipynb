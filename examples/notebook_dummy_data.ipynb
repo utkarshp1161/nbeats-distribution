{
 "cells": [
  {
   "cell_type": "code",
   "execution_count": null,
   "metadata": {},
   "outputs": [],
   "source": [
    "import sys\n",
    "MAINPATH = \"..\"  # nopep8\n",
    "sys.path.append(MAINPATH)  # nopep8\n",
    "from src.models.model import NBeatsNet\n",
    "import numpy as np"
   ]
  },
  {
   "cell_type": "code",
   "execution_count": 2,
   "metadata": {},
   "outputs": [],
   "source": [
    "num_samples, time_steps, input_dim, output_dim = 50_000, 10, 1, 1"
   ]
  },
  {
   "cell_type": "code",
   "execution_count": 3,
   "metadata": {},
   "outputs": [
    {
     "name": "stdout",
     "output_type": "stream",
     "text": [
      "| N-Beats\n",
      "| --  Stack Trend (#0) (share_weights_in_stack=True)\n",
      "     | -- TrendBlock(units=64, thetas_dim=4, backcast_length=10, forecast_length=1, share_thetas=True) at @5898132736\n",
      "     | -- TrendBlock(units=64, thetas_dim=4, backcast_length=10, forecast_length=1, share_thetas=True) at @5898132736\n",
      "| --  Stack Seasonality (#1) (share_weights_in_stack=True)\n",
      "     | -- SeasonalityBlock(units=64, thetas_dim=1, backcast_length=10, forecast_length=1, share_thetas=True) at @5898133072\n",
      "     | -- SeasonalityBlock(units=64, thetas_dim=1, backcast_length=10, forecast_length=1, share_thetas=True) at @5898133072\n"
     ]
    }
   ],
   "source": [
    "model = NBeatsNet(\n",
    "        backcast_length=time_steps, forecast_length=output_dim,\n",
    "        nb_blocks_per_stack=2, thetas_dim=(4, 4), share_weights_in_stack=True,\n",
    "        hidden_layer_units=64\n",
    "    )"
   ]
  },
  {
   "cell_type": "code",
   "execution_count": 4,
   "metadata": {},
   "outputs": [],
   "source": [
    "# Definition of the objective function and the optimizer.\n",
    "model.compile(loss='mae', optimizer='adam')"
   ]
  },
  {
   "cell_type": "code",
   "execution_count": 5,
   "metadata": {},
   "outputs": [],
   "source": [
    "# Definition of the data. The problem to solve is to find f such as | f(x) - y | -> 0.\n",
    "# where f = np.mean.\n",
    "x = np.random.uniform(size=(num_samples, time_steps, input_dim))\n",
    "y = np.mean(x, axis=1, keepdims=True)\n",
    "\n",
    "# Split data into training and testing datasets.\n",
    "c = num_samples // 10\n",
    "x_train, y_train, x_test, y_test = x[c:], y[c:], x[:c], y[:c]\n",
    "test_size = len(x_test)\n"
   ]
  },
  {
   "cell_type": "code",
   "execution_count": 12,
   "metadata": {},
   "outputs": [
    {
     "data": {
      "text/plain": [
       "((50000, 10, 1), (50000, 1, 1))"
      ]
     },
     "execution_count": 12,
     "metadata": {},
     "output_type": "execute_result"
    }
   ],
   "source": [
    "x.shape, y.shape"
   ]
  },
  {
   "cell_type": "code",
   "execution_count": 5,
   "metadata": {},
   "outputs": [
    {
     "name": "stdout",
     "output_type": "stream",
     "text": [
      "Training...\n",
      "Epoch 01/20\n",
      "352/352 [==============================] - 0s 1ms/step - loss: 0.1131 - val_loss: 0.0088\n",
      "Epoch 02/20\n",
      "352/352 [==============================] - 0s 1ms/step - loss: 0.0046 - val_loss: 0.0030\n",
      "Epoch 03/20\n",
      "352/352 [==============================] - 0s 1ms/step - loss: 0.0026 - val_loss: 0.0021\n",
      "Epoch 04/20\n",
      "352/352 [==============================] - 0s 1ms/step - loss: 0.0020 - val_loss: 0.0017\n",
      "Epoch 05/20\n",
      "352/352 [==============================] - 0s 1ms/step - loss: 0.0016 - val_loss: 0.0014\n",
      "Epoch 06/20\n",
      "352/352 [==============================] - 0s 1ms/step - loss: 0.0014 - val_loss: 0.0017\n",
      "Epoch 07/20\n",
      "352/352 [==============================] - 0s 1ms/step - loss: 0.0012 - val_loss: 0.0011\n",
      "Epoch 08/20\n",
      "352/352 [==============================] - 0s 1ms/step - loss: 0.0011 - val_loss: 0.0009\n",
      "Epoch 09/20\n",
      "352/352 [==============================] - 0s 1ms/step - loss: 0.0010 - val_loss: 0.0009\n",
      "Epoch 10/20\n",
      "352/352 [==============================] - 0s 1ms/step - loss: 0.0010 - val_loss: 0.0011\n",
      "Epoch 11/20\n",
      "352/352 [==============================] - 0s 1ms/step - loss: 0.0009 - val_loss: 0.0009\n",
      "Epoch 12/20\n",
      "352/352 [==============================] - 0s 1ms/step - loss: 0.0008 - val_loss: 0.0008\n",
      "Epoch 13/20\n",
      "352/352 [==============================] - 0s 1ms/step - loss: 0.0008 - val_loss: 0.0010\n",
      "Epoch 14/20\n",
      "352/352 [==============================] - 0s 1ms/step - loss: 0.0008 - val_loss: 0.0007\n",
      "Epoch 15/20\n",
      "352/352 [==============================] - 0s 1ms/step - loss: 0.0008 - val_loss: 0.0009\n",
      "Epoch 16/20\n",
      "352/352 [==============================] - 0s 1ms/step - loss: 0.0008 - val_loss: 0.0006\n",
      "Epoch 17/20\n",
      "352/352 [==============================] - 0s 1ms/step - loss: 0.0007 - val_loss: 0.0006\n",
      "Epoch 18/20\n",
      "352/352 [==============================] - 0s 1ms/step - loss: 0.0006 - val_loss: 0.0006\n",
      "Epoch 19/20\n",
      "352/352 [==============================] - 0s 1ms/step - loss: 0.0007 - val_loss: 0.0005\n",
      "Epoch 20/20\n",
      "352/352 [==============================] - 0s 1ms/step - loss: 0.0006 - val_loss: 0.0005\n"
     ]
    }
   ],
   "source": [
    "# Train the model.\n",
    "print('Training...')\n",
    "model.fit(x_train, y_train, validation_data=(x_test, y_test), epochs=20, batch_size=128)\n",
    "\n",
    "# Save the model for later.\n",
    "#model.save('n_beats_model.h5')\n",
    "\n",
    "# Predict on the testing set (forecast).\n",
    "predictions_forecast = model.predict(x_test)\n",
    "np.testing.assert_equal(predictions_forecast.shape, (test_size, model.forecast_length, output_dim))\n",
    "\n",
    "# Predict on the testing set (backcast).\n",
    "predictions_backcast = model.predict(x_test, return_backcast=True)\n",
    "np.testing.assert_equal(predictions_backcast.shape, (test_size, model.backcast_length, output_dim))\n",
    "\n"
   ]
  },
  {
   "cell_type": "code",
   "execution_count": null,
   "metadata": {},
   "outputs": [],
   "source": []
  }
 ],
 "metadata": {
  "kernelspec": {
   "display_name": "c_dao_env",
   "language": "python",
   "name": "python3"
  },
  "language_info": {
   "codemirror_mode": {
    "name": "ipython",
    "version": 3
   },
   "file_extension": ".py",
   "mimetype": "text/x-python",
   "name": "python",
   "nbconvert_exporter": "python",
   "pygments_lexer": "ipython3",
   "version": "3.9.12"
  },
  "orig_nbformat": 4
 },
 "nbformat": 4,
 "nbformat_minor": 2
}
